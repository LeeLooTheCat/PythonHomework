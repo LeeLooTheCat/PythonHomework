{
 "cells": [
  {
   "cell_type": "code",
   "execution_count": 47,
   "id": "449c91e5-6b83-49ef-900c-193021c4d13f",
   "metadata": {},
   "outputs": [
    {
     "name": "stdout",
     "output_type": "stream",
     "text": [
      "Enter Product name then hit Enter\n",
      "Enter Quantity then Enter\n",
      "Hit Enter on Blank to Finish\n"
     ]
    },
    {
     "name": "stdin",
     "output_type": "stream",
     "text": [
      "\n",
      "Product Name:  ksdf\n",
      "Quantity:  45\n",
      "\n",
      "Product Name:  \n"
     ]
    },
    {
     "name": "stdout",
     "output_type": "stream",
     "text": [
      "\n",
      "The Inventory is as follows: \n",
      "ksdf, 45\n"
     ]
    },
    {
     "name": "stdin",
     "output_type": "stream",
     "text": [
      "\n",
      "Add new part and quantity\n",
      "Format:Product name: Product quantity\n",
      "  akjsdf: 45\n",
      "\n",
      "Add new part and quantity\n",
      "Format:Product name: Product quantity\n",
      "  \n"
     ]
    },
    {
     "name": "stdout",
     "output_type": "stream",
     "text": [
      "\n",
      "The NEW Inventory is as follows: \n",
      "There are 45 of ksdfs\n",
      "There are  45 of akjsdfs\n"
     ]
    }
   ],
   "source": [
    "inventory = []\n",
    "print(\"Enter Product name then hit Enter\")\n",
    "print(\"Enter Quantity then Enter\")\n",
    "print(\"Hit Enter on Blank to Finish\")\n",
    "while True:\n",
    "    product= input(\"\\nProduct Name: \")\n",
    "    if product == \"\":\n",
    "        break\n",
    "    quantity= input(\"Quantity: \")\n",
    "    inventory.append((product, quantity))\n",
    "print(\"\\nThe Inventory is as follows: \")\n",
    "for item in inventory:\n",
    "    product, quantity = item\n",
    "    print(f\"{product}, {quantity}\")\n",
    "def inventory_update():\n",
    "    while True:\n",
    "        entry = input(\"\\nAdd new part and quantity\\nFormat:Product name:Product quantity\\n \")\n",
    "        if entry == \"\":\n",
    "            break\n",
    "        product, quantity = entry.split(\":\")\n",
    "        inventory.append((product, quantity))\n",
    "inventory_update()\n",
    "print(\"\\nThe NEW Inventory is as follows: \")\n",
    "for item in inventory:\n",
    "    product, quantity = item\n",
    "    print(f\"There are {quantity} of {product}s\")"
   ]
  },
  {
   "cell_type": "code",
   "execution_count": null,
   "id": "9008de11-2935-4dc0-b649-833f99841d8f",
   "metadata": {},
   "outputs": [],
   "source": []
  }
 ],
 "metadata": {
  "kernelspec": {
   "display_name": "Python 3 (ipykernel)",
   "language": "python",
   "name": "python3"
  },
  "language_info": {
   "codemirror_mode": {
    "name": "ipython",
    "version": 3
   },
   "file_extension": ".py",
   "mimetype": "text/x-python",
   "name": "python",
   "nbconvert_exporter": "python",
   "pygments_lexer": "ipython3",
   "version": "3.13.5"
  }
 },
 "nbformat": 4,
 "nbformat_minor": 5
}
